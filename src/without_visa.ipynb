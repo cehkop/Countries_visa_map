{
 "cells": [
  {
   "cell_type": "markdown",
   "metadata": {},
   "source": [
    "Visa matrix to list of Available countries"
   ]
  },
  {
   "cell_type": "code",
   "execution_count": 22,
   "metadata": {},
   "outputs": [],
   "source": [
    "import pandas as pd\n",
    "\n",
    "\n",
    "# Choose a specific country\n",
    "COUNTRY_TARGET = 'Russia'\n",
    "\n",
    "# Assuming you have a DataFrame 'visa_data' with the visa information\n",
    "visa_data = pd.read_csv('../data/passport-index-matrix.csv', index_col=0)\n",
    "\n",
    "# Function to get visa information in the specified format\n",
    "def get_visa_info(country, category, description):\n",
    "    return f\"{country}, {category}, {description}\"\n",
    "\n",
    "# Categories that are considered valid\n",
    "available_categories = ['visa free', 'visa on arrival', 'e-visa'] + list(map(str, range(10, 361)))\n",
    "\n",
    "# Function to get visa information in the specified format for a specific country\n",
    "def get_visa_info_for_country(country_target, visa_data):\n",
    "    visa_info = []\n",
    "    for country in visa_data.columns:\n",
    "        if country_target != country:\n",
    "            category = visa_data.loc[country_target, country]\n",
    "            if category in available_categories:\n",
    "                description = \"Country description\"  # Replace with actual description\n",
    "                visa_info.append(get_visa_info(country, category, description))\n",
    "    return visa_info\n",
    "\n",
    "# Get and print visa information for the chosen country\n",
    "visa_info_for_target_country = get_visa_info_for_country(COUNTRY_TARGET, visa_data)\n",
    "\n",
    "# Write visa information to a CSV file\n",
    "output_file_path = '../data/available_countries.csv'\n",
    "with open(output_file_path, 'w', encoding='utf-8') as file:\n",
    "    file.write(\"countries,category,description\\n\")\n",
    "    for info in visa_info_for_target_country:\n",
    "        file.write(info + '\\n')\n",
    "    \n"
   ]
  },
  {
   "cell_type": "markdown",
   "metadata": {},
   "source": [
    "Available countries to KML file with borders"
   ]
  },
  {
   "cell_type": "code",
   "execution_count": 7,
   "metadata": {},
   "outputs": [
    {
     "name": "stdout",
     "output_type": "stream",
     "text": [
      "Country not found: Macau\n",
      "Country not found: Eswatini\n",
      "Country not found: Brunei Darussalam\n",
      "Country not found: Hong Kong\n"
     ]
    }
   ],
   "source": [
    "from bs4 import BeautifulSoup\n",
    "import csv\n",
    "\n",
    "def read_kml(file_path):\n",
    "    with open(file_path, 'r', encoding='utf-8') as file:\n",
    "        content = file.read()\n",
    "        soup = BeautifulSoup(content, 'xml')\n",
    "        placemarks = soup.find_all('Placemark')\n",
    "        countries = {}\n",
    "        for placemark in placemarks:\n",
    "            name = placemark.find('name').text.strip()\n",
    "            geometry = str(placemark.find('MultiGeometry')) \n",
    "            countries[name] = {'geometry': geometry}\n",
    "        return countries\n",
    "\n",
    "def process_csv(csv_file, countries_data):\n",
    "    with open(csv_file, 'r', encoding='utf-8') as file:\n",
    "        reader = csv.reader(file)\n",
    "        header = next(reader)\n",
    "        rows = list(reader)\n",
    "\n",
    "    output_data = []\n",
    "\n",
    "    for row in rows:\n",
    "        country_name = row[0]\n",
    "        if country_name in countries_data:\n",
    "            category = row[1]\n",
    "            description = row[2]\n",
    "            geometry = countries_data[country_name]['geometry']\n",
    "            \n",
    "            output_data.append({\n",
    "                'category': category,\n",
    "                'name': country_name,\n",
    "                'description': description,\n",
    "                'geometry': geometry\n",
    "            })\n",
    "        else:\n",
    "            print(f\"Country not found: {country_name}\")\n",
    "\n",
    "    return header, output_data\n",
    "\n",
    "def write_kml(output_file, header, data):\n",
    "    with open(output_file, 'w', encoding='utf-8') as out_file:\n",
    "        out_file.write('<?xml version=\"1.0\" encoding=\"UTF-8\"?>\\n')\n",
    "        out_file.write('<kml xmlns=\"http://www.opengis.net/kml/2.2\">\\n')\n",
    "        out_file.write('<Document>\\n')\n",
    "\n",
    "        for entry in data:\n",
    "            out_file.write(f'  <Placemark>\\n')\n",
    "            out_file.write(f'    <name>{entry[\"category\"]} дней</name>\\n')\n",
    "            out_file.write(f'    <description>{entry[\"description\"]}</description>\\n')\n",
    "            out_file.write(f'    {entry[\"geometry\"]}\\n')\n",
    "            out_file.write(f'  </Placemark>\\n')\n",
    "\n",
    "        out_file.write('</Document>\\n')\n",
    "        out_file.write('</kml>\\n')\n",
    "\n",
    "# Read from KML\n",
    "countries_data = read_kml('../data/countries.kml')\n",
    "\n",
    "header, output_data = process_csv('../data/in.csv', countries_data)\n",
    "\n",
    "# Write to KML\n",
    "write_kml('out.kml', header, output_data)\n"
   ]
  }
 ],
 "metadata": {
  "kernelspec": {
   "display_name": "Python 3",
   "language": "python",
   "name": "python3"
  },
  "language_info": {
   "codemirror_mode": {
    "name": "ipython",
    "version": 3
   },
   "file_extension": ".py",
   "mimetype": "text/x-python",
   "name": "python",
   "nbconvert_exporter": "python",
   "pygments_lexer": "ipython3",
   "version": "3.11.6"
  }
 },
 "nbformat": 4,
 "nbformat_minor": 2
}
